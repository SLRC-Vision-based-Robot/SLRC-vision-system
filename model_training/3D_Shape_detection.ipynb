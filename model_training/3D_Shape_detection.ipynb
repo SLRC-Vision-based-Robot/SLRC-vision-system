{
  "cells": [
    {
      "cell_type": "markdown",
      "source": [
        "# 3D Shape Detection using MobilenetV1\n",
        "\n",
        "The following jupyter notebook outlines the procedure of training a Deep Neural Network with MobileNetV1 as the base model and using transfer learning to classify between images of Cubes and Cylinders."
      ],
      "metadata": {
        "id": "-jaIk-E4oC7_"
      }
    },
    {
      "cell_type": "markdown",
      "source": [
        "## Importing the pretrained MobileNetV1 model and 3D-Shape dataset"
      ],
      "metadata": {
        "id": "wUpMy5I6ogMr"
      }
    },
    {
      "cell_type": "code",
      "execution_count": 2,
      "metadata": {
        "colab": {
          "base_uri": "https://localhost:8080/"
        },
        "id": "7o6uFOChrbuW",
        "outputId": "5971216b-9d0e-47d9-ffe4-c1df4086997a"
      },
      "outputs": [
        {
          "output_type": "stream",
          "name": "stdout",
          "text": [
            "--2024-03-22 14:48:47--  https://cainvas-static.s3.amazonaws.com/media/user_data/cainvas-admin/3D_Shapes.zip\n",
            "Resolving cainvas-static.s3.amazonaws.com (cainvas-static.s3.amazonaws.com)... 52.219.62.116, 16.12.40.3, 52.219.158.115, ...\n",
            "Connecting to cainvas-static.s3.amazonaws.com (cainvas-static.s3.amazonaws.com)|52.219.62.116|:443... connected.\n",
            "HTTP request sent, awaiting response... 200 OK\n",
            "Length: 2137601 (2.0M) [application/zip]\n",
            "Saving to: ‘3D_Shapes.zip’\n",
            "\n",
            "3D_Shapes.zip       100%[===================>]   2.04M  1.59MB/s    in 1.3s    \n",
            "\n",
            "2024-03-22 14:48:49 (1.59 MB/s) - ‘3D_Shapes.zip’ saved [2137601/2137601]\n",
            "\n"
          ]
        }
      ],
      "source": [
        "# Download 3D-shape dataset zip\n",
        "!wget https://cainvas-static.s3.amazonaws.com/media/user_data/cainvas-admin/3D_Shapes.zip -O 3D_Shapes.zip"
      ]
    },
    {
      "cell_type": "code",
      "execution_count": 3,
      "metadata": {
        "colab": {
          "base_uri": "https://localhost:8080/"
        },
        "id": "POmmL8E0rRqK",
        "outputId": "62d9c16f-8dc1-47a2-de2a-393c5a0ac661"
      },
      "outputs": [
        {
          "output_type": "stream",
          "name": "stdout",
          "text": [
            "--2024-03-22 14:48:58--  https://cainvas-static.s3.amazonaws.com/media/user_data/cainvas-admin/mobilenet_v1.zip\n",
            "Resolving cainvas-static.s3.amazonaws.com (cainvas-static.s3.amazonaws.com)... 52.219.160.159, 16.12.36.143, 52.219.160.115, ...\n",
            "Connecting to cainvas-static.s3.amazonaws.com (cainvas-static.s3.amazonaws.com)|52.219.160.159|:443... connected.\n",
            "HTTP request sent, awaiting response... 200 OK\n",
            "Length: 9263 (9.0K) [application/zip]\n",
            "Saving to: ‘mobilenet_v1.zip’\n",
            "\n",
            "mobilenet_v1.zip    100%[===================>]   9.05K  --.-KB/s    in 0s      \n",
            "\n",
            "2024-03-22 14:48:59 (55.5 MB/s) - ‘mobilenet_v1.zip’ saved [9263/9263]\n",
            "\n"
          ]
        }
      ],
      "source": [
        "# Download pretrained model\n",
        "!wget https://cainvas-static.s3.amazonaws.com/media/user_data/cainvas-admin/mobilenet_v1.zip -O mobilenet_v1.zip"
      ]
    },
    {
      "cell_type": "code",
      "execution_count": 5,
      "metadata": {
        "id": "s_X90Uo0rdqc"
      },
      "outputs": [],
      "source": [
        "# Unzip dataset\n",
        "import zipfile as zf\n",
        "files = zf.ZipFile(\"3D_Shapes.zip\", 'r')\n",
        "files.extractall('3D_Shapes_Dataset')\n",
        "files.close()"
      ]
    },
    {
      "cell_type": "markdown",
      "source": [
        "The dataset consists of examples for *cube, cylinder, spheroid and sphere*. However we only need cubes and cylinders therefore other two folders are deleted."
      ],
      "metadata": {
        "id": "D5nRoz4Ioz7_"
      }
    },
    {
      "cell_type": "code",
      "execution_count": 8,
      "metadata": {
        "id": "_VKr_YLMUlW3",
        "colab": {
          "base_uri": "https://localhost:8080/"
        },
        "outputId": "445c190e-10af-469a-bf78-c3c4d67fe70a"
      },
      "outputs": [
        {
          "output_type": "stream",
          "name": "stdout",
          "text": [
            "rm: cannot remove '/content/3D_Shapes_Dataset/sphere': No such file or directory\n"
          ]
        }
      ],
      "source": [
        "!rm -r /content/3D_Shapes_Dataset/sphere"
      ]
    },
    {
      "cell_type": "code",
      "source": [
        "!rm -r /content/3D_Shapes_Dataset/shperoid"
      ],
      "metadata": {
        "id": "7cP1ltZXZ50R"
      },
      "execution_count": 9,
      "outputs": []
    },
    {
      "cell_type": "code",
      "execution_count": 10,
      "metadata": {
        "id": "K8ZHHXlQrOIr"
      },
      "outputs": [],
      "source": [
        "# Unzip mobilenet\n",
        "files = zf.ZipFile(\"mobilenet_v1.zip\", 'r')\n",
        "files.extractall('mobilenet_v1')\n",
        "files.close()"
      ]
    },
    {
      "cell_type": "markdown",
      "source": [
        "## Import Tensorflow and other modules"
      ],
      "metadata": {
        "id": "S9RW_AShpURx"
      }
    },
    {
      "cell_type": "code",
      "execution_count": 15,
      "metadata": {
        "id": "PH2TWRQAoRzQ"
      },
      "outputs": [],
      "source": [
        "from tensorflow import keras\n",
        "import numpy as np\n",
        "from tensorflow.keras import backend as K\n",
        "from tensorflow.keras.optimizers import Adam\n",
        "from tensorflow.keras.metrics import categorical_crossentropy\n",
        "from tensorflow.keras.preprocessing.image import ImageDataGenerator\n",
        "from tensorflow.keras.preprocessing import image\n",
        "from tensorflow.keras.models import Model\n",
        "from tensorflow.keras.applications import imagenet_utils\n",
        "from tensorflow.keras.layers import Dense, GlobalAveragePooling2D, Dropout,Flatten\n",
        "import matplotlib.pyplot as plt\n",
        "import cv2\n",
        "\n",
        "from mobilenet_v1.mobilenet import MobileNet\n",
        "\n",
        "from tensorflow.keras.applications.mobilenet import preprocess_input"
      ]
    },
    {
      "cell_type": "code",
      "execution_count": 11,
      "metadata": {
        "id": "96FjsNCUq5fY"
      },
      "outputs": [],
      "source": [
        "# Model Hyper-parameters\n",
        "IMAGE_SIZE = 224\n",
        "ALPHA=0.75\n",
        "EPOCHS=20"
      ]
    },
    {
      "cell_type": "markdown",
      "source": [
        "## Preprocess image for training"
      ],
      "metadata": {
        "id": "gI93CemppbVo"
      }
    },
    {
      "cell_type": "code",
      "execution_count": 12,
      "metadata": {
        "id": "QDnKHFh0rWCP"
      },
      "outputs": [],
      "source": [
        "# Preprocess according to mobilenet requirements\n",
        "def prepare_image(file):\n",
        "    img_path = ''\n",
        "    img = image.load_img(img_path + file, target_size=(IMAGE_SIZE, IMAGE_SIZE))\n",
        "    img_array = image.img_to_array(img)\n",
        "    img_array_expanded_dims = np.expand_dims(img_array, axis=0)\n",
        "    return keras.applications.mobilenet.preprocess_input(img_array_expanded_dims)"
      ]
    },
    {
      "cell_type": "markdown",
      "source": [
        "## Build model"
      ],
      "metadata": {
        "id": "Ui3zJAlbquZ0"
      }
    },
    {
      "cell_type": "code",
      "execution_count": 13,
      "metadata": {
        "id": "zCKsBckorYEG"
      },
      "outputs": [],
      "source": [
        "# Function to build transfer learning base model\n",
        "def build_finetune_model(base_model, dropout, fc_layers, num_classes):\n",
        "    for layer in base_model.layers:\n",
        "        layer.trainable = False\n",
        "\n",
        "    x = base_model.output\n",
        "    x = GlobalAveragePooling2D()(x)\n",
        "\n",
        "    for fc in fc_layers:\n",
        "        # New FC layer, random init\n",
        "        x = Dense(fc, activation='relu')(x)\n",
        "        x = Dropout(dropout)(x)\n",
        "\n",
        "    # New softmax layer\n",
        "    predictions = Dense(num_classes, activation='softmax')(x)\n",
        "\n",
        "    finetune_model = Model(inputs=base_model.input, outputs=predictions)\n",
        "\n",
        "    return finetune_model"
      ]
    },
    {
      "cell_type": "code",
      "execution_count": 16,
      "metadata": {
        "colab": {
          "base_uri": "https://localhost:8080/"
        },
        "id": "NwOQvWwWrZsF",
        "outputId": "be975286-7fb3-4732-bf14-d51813274e8f"
      },
      "outputs": [
        {
          "output_type": "stream",
          "name": "stdout",
          "text": [
            "Downloading data from https://github.com/fchollet/deep-learning-models/releases/download/v0.6/mobilenet_7_5_224_tf_no_top.h5\n",
            "10626956/10626956 [==============================] - 0s 0us/step\n"
          ]
        }
      ],
      "source": [
        "# Instantiate MobileNetV1 as the base model\n",
        "base_model=MobileNet(input_shape=(IMAGE_SIZE, IMAGE_SIZE,3), alpha = ALPHA,\n",
        "                     depth_multiplier = 1, dropout = 0.001, include_top = False,\n",
        "                     weights = \"imagenet\", classes = 2, backend=keras.backend,\n",
        "                     layers=keras.layers,models=keras.models,utils=keras.utils)"
      ]
    },
    {
      "cell_type": "code",
      "execution_count": 20,
      "metadata": {
        "id": "H9PRqwO8rgPG"
      },
      "outputs": [],
      "source": [
        "# Set model parameters\n",
        "FC_LAYERS = [100, 50]\n",
        "dropout = 0.5\n",
        "\n",
        "# Build final model\n",
        "model = build_finetune_model(base_model,\n",
        "                                      dropout=dropout,\n",
        "                                      fc_layers=FC_LAYERS,\n",
        "                                      num_classes=2)"
      ]
    },
    {
      "cell_type": "markdown",
      "source": [
        "## Make dataflow pipeline"
      ],
      "metadata": {
        "id": "uR_NIvqLqqhW"
      }
    },
    {
      "cell_type": "code",
      "execution_count": 21,
      "metadata": {
        "colab": {
          "base_uri": "https://localhost:8080/"
        },
        "id": "HKoYTzNfrid6",
        "outputId": "e0c2389f-f2c6-45f5-db76-069bcb8b8b56"
      },
      "outputs": [
        {
          "output_type": "stream",
          "name": "stdout",
          "text": [
            "Found 600 images belonging to 2 classes.\n"
          ]
        }
      ],
      "source": [
        "# Instantiate data generator (Pipeline)\n",
        "train_datagen=ImageDataGenerator(preprocessing_function=preprocess_input)\n",
        "\n",
        "# Create data pipeline from directory\n",
        "train_generator=train_datagen.flow_from_directory('3D_Shapes_Dataset',\n",
        "                                                 target_size=(IMAGE_SIZE,IMAGE_SIZE),\n",
        "                                                 color_mode='rgb',\n",
        "                                                 batch_size=32,\n",
        "                                                 class_mode='categorical', shuffle=True)"
      ]
    },
    {
      "cell_type": "markdown",
      "source": [
        "## Display model structure"
      ],
      "metadata": {
        "id": "YZZzQVP-qnyr"
      }
    },
    {
      "cell_type": "code",
      "execution_count": 22,
      "metadata": {
        "colab": {
          "base_uri": "https://localhost:8080/"
        },
        "id": "zlp7h4ueroAp",
        "outputId": "4915beca-aab6-40c7-f928-67d8c7c79202"
      },
      "outputs": [
        {
          "output_type": "stream",
          "name": "stdout",
          "text": [
            "Model: \"model_2\"\n",
            "_________________________________________________________________\n",
            " Layer (type)                Output Shape              Param #   \n",
            "=================================================================\n",
            " input_1 (InputLayer)        [(None, 224, 224, 3)]     0         \n",
            "                                                                 \n",
            " conv1_pad (ZeroPadding2D)   (None, 226, 226, 3)       0         \n",
            "                                                                 \n",
            " conv1 (Conv2D)              (None, 112, 112, 24)      648       \n",
            "                                                                 \n",
            " conv1_bn (BatchNormalizati  (None, 112, 112, 24)      96        \n",
            " on)                                                             \n",
            "                                                                 \n",
            " conv1_relu (ReLU)           (None, 112, 112, 24)      0         \n",
            "                                                                 \n",
            " conv_dw_1 (DepthwiseConv2D  (None, 112, 112, 24)      216       \n",
            " )                                                               \n",
            "                                                                 \n",
            " conv_dw_1_bn (BatchNormali  (None, 112, 112, 24)      96        \n",
            " zation)                                                         \n",
            "                                                                 \n",
            " conv_dw_1_relu (ReLU)       (None, 112, 112, 24)      0         \n",
            "                                                                 \n",
            " conv_pw_1 (Conv2D)          (None, 112, 112, 48)      1152      \n",
            "                                                                 \n",
            " conv_pw_1_bn (BatchNormali  (None, 112, 112, 48)      192       \n",
            " zation)                                                         \n",
            "                                                                 \n",
            " conv_pw_1_relu (ReLU)       (None, 112, 112, 48)      0         \n",
            "                                                                 \n",
            " conv_pad_2 (ZeroPadding2D)  (None, 114, 114, 48)      0         \n",
            "                                                                 \n",
            " conv_dw_2 (DepthwiseConv2D  (None, 56, 56, 48)        432       \n",
            " )                                                               \n",
            "                                                                 \n",
            " conv_dw_2_bn (BatchNormali  (None, 56, 56, 48)        192       \n",
            " zation)                                                         \n",
            "                                                                 \n",
            " conv_dw_2_relu (ReLU)       (None, 56, 56, 48)        0         \n",
            "                                                                 \n",
            " conv_pw_2 (Conv2D)          (None, 56, 56, 96)        4608      \n",
            "                                                                 \n",
            " conv_pw_2_bn (BatchNormali  (None, 56, 56, 96)        384       \n",
            " zation)                                                         \n",
            "                                                                 \n",
            " conv_pw_2_relu (ReLU)       (None, 56, 56, 96)        0         \n",
            "                                                                 \n",
            " conv_dw_3 (DepthwiseConv2D  (None, 56, 56, 96)        864       \n",
            " )                                                               \n",
            "                                                                 \n",
            " conv_dw_3_bn (BatchNormali  (None, 56, 56, 96)        384       \n",
            " zation)                                                         \n",
            "                                                                 \n",
            " conv_dw_3_relu (ReLU)       (None, 56, 56, 96)        0         \n",
            "                                                                 \n",
            " conv_pw_3 (Conv2D)          (None, 56, 56, 96)        9216      \n",
            "                                                                 \n",
            " conv_pw_3_bn (BatchNormali  (None, 56, 56, 96)        384       \n",
            " zation)                                                         \n",
            "                                                                 \n",
            " conv_pw_3_relu (ReLU)       (None, 56, 56, 96)        0         \n",
            "                                                                 \n",
            " conv_pad_4 (ZeroPadding2D)  (None, 58, 58, 96)        0         \n",
            "                                                                 \n",
            " conv_dw_4 (DepthwiseConv2D  (None, 28, 28, 96)        864       \n",
            " )                                                               \n",
            "                                                                 \n",
            " conv_dw_4_bn (BatchNormali  (None, 28, 28, 96)        384       \n",
            " zation)                                                         \n",
            "                                                                 \n",
            " conv_dw_4_relu (ReLU)       (None, 28, 28, 96)        0         \n",
            "                                                                 \n",
            " conv_pw_4 (Conv2D)          (None, 28, 28, 192)       18432     \n",
            "                                                                 \n",
            " conv_pw_4_bn (BatchNormali  (None, 28, 28, 192)       768       \n",
            " zation)                                                         \n",
            "                                                                 \n",
            " conv_pw_4_relu (ReLU)       (None, 28, 28, 192)       0         \n",
            "                                                                 \n",
            " conv_dw_5 (DepthwiseConv2D  (None, 28, 28, 192)       1728      \n",
            " )                                                               \n",
            "                                                                 \n",
            " conv_dw_5_bn (BatchNormali  (None, 28, 28, 192)       768       \n",
            " zation)                                                         \n",
            "                                                                 \n",
            " conv_dw_5_relu (ReLU)       (None, 28, 28, 192)       0         \n",
            "                                                                 \n",
            " conv_pw_5 (Conv2D)          (None, 28, 28, 192)       36864     \n",
            "                                                                 \n",
            " conv_pw_5_bn (BatchNormali  (None, 28, 28, 192)       768       \n",
            " zation)                                                         \n",
            "                                                                 \n",
            " conv_pw_5_relu (ReLU)       (None, 28, 28, 192)       0         \n",
            "                                                                 \n",
            " conv_pad_6 (ZeroPadding2D)  (None, 30, 30, 192)       0         \n",
            "                                                                 \n",
            " conv_dw_6 (DepthwiseConv2D  (None, 14, 14, 192)       1728      \n",
            " )                                                               \n",
            "                                                                 \n",
            " conv_dw_6_bn (BatchNormali  (None, 14, 14, 192)       768       \n",
            " zation)                                                         \n",
            "                                                                 \n",
            " conv_dw_6_relu (ReLU)       (None, 14, 14, 192)       0         \n",
            "                                                                 \n",
            " conv_pw_6 (Conv2D)          (None, 14, 14, 384)       73728     \n",
            "                                                                 \n",
            " conv_pw_6_bn (BatchNormali  (None, 14, 14, 384)       1536      \n",
            " zation)                                                         \n",
            "                                                                 \n",
            " conv_pw_6_relu (ReLU)       (None, 14, 14, 384)       0         \n",
            "                                                                 \n",
            " conv_dw_7 (DepthwiseConv2D  (None, 14, 14, 384)       3456      \n",
            " )                                                               \n",
            "                                                                 \n",
            " conv_dw_7_bn (BatchNormali  (None, 14, 14, 384)       1536      \n",
            " zation)                                                         \n",
            "                                                                 \n",
            " conv_dw_7_relu (ReLU)       (None, 14, 14, 384)       0         \n",
            "                                                                 \n",
            " conv_pw_7 (Conv2D)          (None, 14, 14, 384)       147456    \n",
            "                                                                 \n",
            " conv_pw_7_bn (BatchNormali  (None, 14, 14, 384)       1536      \n",
            " zation)                                                         \n",
            "                                                                 \n",
            " conv_pw_7_relu (ReLU)       (None, 14, 14, 384)       0         \n",
            "                                                                 \n",
            " conv_dw_8 (DepthwiseConv2D  (None, 14, 14, 384)       3456      \n",
            " )                                                               \n",
            "                                                                 \n",
            " conv_dw_8_bn (BatchNormali  (None, 14, 14, 384)       1536      \n",
            " zation)                                                         \n",
            "                                                                 \n",
            " conv_dw_8_relu (ReLU)       (None, 14, 14, 384)       0         \n",
            "                                                                 \n",
            " conv_pw_8 (Conv2D)          (None, 14, 14, 384)       147456    \n",
            "                                                                 \n",
            " conv_pw_8_bn (BatchNormali  (None, 14, 14, 384)       1536      \n",
            " zation)                                                         \n",
            "                                                                 \n",
            " conv_pw_8_relu (ReLU)       (None, 14, 14, 384)       0         \n",
            "                                                                 \n",
            " conv_dw_9 (DepthwiseConv2D  (None, 14, 14, 384)       3456      \n",
            " )                                                               \n",
            "                                                                 \n",
            " conv_dw_9_bn (BatchNormali  (None, 14, 14, 384)       1536      \n",
            " zation)                                                         \n",
            "                                                                 \n",
            " conv_dw_9_relu (ReLU)       (None, 14, 14, 384)       0         \n",
            "                                                                 \n",
            " conv_pw_9 (Conv2D)          (None, 14, 14, 384)       147456    \n",
            "                                                                 \n",
            " conv_pw_9_bn (BatchNormali  (None, 14, 14, 384)       1536      \n",
            " zation)                                                         \n",
            "                                                                 \n",
            " conv_pw_9_relu (ReLU)       (None, 14, 14, 384)       0         \n",
            "                                                                 \n",
            " conv_dw_10 (DepthwiseConv2  (None, 14, 14, 384)       3456      \n",
            " D)                                                              \n",
            "                                                                 \n",
            " conv_dw_10_bn (BatchNormal  (None, 14, 14, 384)       1536      \n",
            " ization)                                                        \n",
            "                                                                 \n",
            " conv_dw_10_relu (ReLU)      (None, 14, 14, 384)       0         \n",
            "                                                                 \n",
            " conv_pw_10 (Conv2D)         (None, 14, 14, 384)       147456    \n",
            "                                                                 \n",
            " conv_pw_10_bn (BatchNormal  (None, 14, 14, 384)       1536      \n",
            " ization)                                                        \n",
            "                                                                 \n",
            " conv_pw_10_relu (ReLU)      (None, 14, 14, 384)       0         \n",
            "                                                                 \n",
            " conv_dw_11 (DepthwiseConv2  (None, 14, 14, 384)       3456      \n",
            " D)                                                              \n",
            "                                                                 \n",
            " conv_dw_11_bn (BatchNormal  (None, 14, 14, 384)       1536      \n",
            " ization)                                                        \n",
            "                                                                 \n",
            " conv_dw_11_relu (ReLU)      (None, 14, 14, 384)       0         \n",
            "                                                                 \n",
            " conv_pw_11 (Conv2D)         (None, 14, 14, 384)       147456    \n",
            "                                                                 \n",
            " conv_pw_11_bn (BatchNormal  (None, 14, 14, 384)       1536      \n",
            " ization)                                                        \n",
            "                                                                 \n",
            " conv_pw_11_relu (ReLU)      (None, 14, 14, 384)       0         \n",
            "                                                                 \n",
            " conv_pad_12 (ZeroPadding2D  (None, 16, 16, 384)       0         \n",
            " )                                                               \n",
            "                                                                 \n",
            " conv_dw_12 (DepthwiseConv2  (None, 7, 7, 384)         3456      \n",
            " D)                                                              \n",
            "                                                                 \n",
            " conv_dw_12_bn (BatchNormal  (None, 7, 7, 384)         1536      \n",
            " ization)                                                        \n",
            "                                                                 \n",
            " conv_dw_12_relu (ReLU)      (None, 7, 7, 384)         0         \n",
            "                                                                 \n",
            " conv_pw_12 (Conv2D)         (None, 7, 7, 768)         294912    \n",
            "                                                                 \n",
            " conv_pw_12_bn (BatchNormal  (None, 7, 7, 768)         3072      \n",
            " ization)                                                        \n",
            "                                                                 \n",
            " conv_pw_12_relu (ReLU)      (None, 7, 7, 768)         0         \n",
            "                                                                 \n",
            " conv_dw_13 (DepthwiseConv2  (None, 7, 7, 768)         6912      \n",
            " D)                                                              \n",
            "                                                                 \n",
            " conv_dw_13_bn (BatchNormal  (None, 7, 7, 768)         3072      \n",
            " ization)                                                        \n",
            "                                                                 \n",
            " conv_dw_13_relu (ReLU)      (None, 7, 7, 768)         0         \n",
            "                                                                 \n",
            " conv_pw_13 (Conv2D)         (None, 7, 7, 768)         589824    \n",
            "                                                                 \n",
            " conv_pw_13_bn (BatchNormal  (None, 7, 7, 768)         3072      \n",
            " ization)                                                        \n",
            "                                                                 \n",
            " conv_pw_13_relu (ReLU)      (None, 7, 7, 768)         0         \n",
            "                                                                 \n",
            " global_average_pooling2d_2  (None, 768)               0         \n",
            "  (GlobalAveragePooling2D)                                       \n",
            "                                                                 \n",
            " dense_6 (Dense)             (None, 100)               76900     \n",
            "                                                                 \n",
            " dropout_4 (Dropout)         (None, 100)               0         \n",
            "                                                                 \n",
            " dense_7 (Dense)             (None, 50)                5050      \n",
            "                                                                 \n",
            " dropout_5 (Dropout)         (None, 50)                0         \n",
            "                                                                 \n",
            " dense_8 (Dense)             (None, 2)                 102       \n",
            "                                                                 \n",
            "=================================================================\n",
            "Total params: 1915028 (7.31 MB)\n",
            "Trainable params: 82052 (320.52 KB)\n",
            "Non-trainable params: 1832976 (6.99 MB)\n",
            "_________________________________________________________________\n"
          ]
        }
      ],
      "source": [
        "model.summary()"
      ]
    },
    {
      "cell_type": "markdown",
      "source": [
        "## Train model"
      ],
      "metadata": {
        "id": "YmDMfkuvqzYA"
      }
    },
    {
      "cell_type": "code",
      "source": [
        "model.compile(optimizer='Adam',loss='categorical_crossentropy',metrics=['accuracy'])\n",
        "step_size_train=train_generator.n//train_generator.batch_size\n",
        "history = model.fit_generator(generator=train_generator,steps_per_epoch=step_size_train,epochs=EPOCHS, shuffle=True)\n",
        "\n",
        "model.save('model.h5')"
      ],
      "metadata": {
        "colab": {
          "base_uri": "https://localhost:8080/"
        },
        "id": "l4ePKMNMqyiY",
        "outputId": "11da0d20-58c1-487e-da67-f2385f41d8a6"
      },
      "execution_count": 23,
      "outputs": [
        {
          "output_type": "stream",
          "name": "stderr",
          "text": [
            "<ipython-input-23-2ed376c28c10>:3: UserWarning: `Model.fit_generator` is deprecated and will be removed in a future version. Please use `Model.fit`, which supports generators.\n",
            "  history = model.fit_generator(generator=train_generator,steps_per_epoch=step_size_train,epochs=EPOCHS, shuffle=True)\n"
          ]
        },
        {
          "output_type": "stream",
          "name": "stdout",
          "text": [
            "Epoch 1/20\n",
            "18/18 [==============================] - 30s 2s/step - loss: 0.7280 - accuracy: 0.6250\n",
            "Epoch 2/20\n",
            "18/18 [==============================] - 21s 1s/step - loss: 0.3988 - accuracy: 0.8099\n",
            "Epoch 3/20\n",
            "18/18 [==============================] - 18s 1s/step - loss: 0.2124 - accuracy: 0.9444\n",
            "Epoch 4/20\n",
            "18/18 [==============================] - 18s 1s/step - loss: 0.0818 - accuracy: 0.9842\n",
            "Epoch 5/20\n",
            "18/18 [==============================] - 18s 1s/step - loss: 0.0541 - accuracy: 0.9912\n",
            "Epoch 6/20\n",
            "18/18 [==============================] - 19s 986ms/step - loss: 0.0394 - accuracy: 0.9894\n",
            "Epoch 7/20\n",
            "18/18 [==============================] - 17s 934ms/step - loss: 0.0340 - accuracy: 0.9912\n",
            "Epoch 8/20\n",
            "18/18 [==============================] - 16s 901ms/step - loss: 0.0224 - accuracy: 0.9965\n",
            "Epoch 9/20\n",
            "18/18 [==============================] - 17s 915ms/step - loss: 0.0218 - accuracy: 0.9947\n",
            "Epoch 10/20\n",
            "18/18 [==============================] - 17s 932ms/step - loss: 0.0118 - accuracy: 0.9982\n",
            "Epoch 11/20\n",
            "18/18 [==============================] - 18s 993ms/step - loss: 0.0117 - accuracy: 0.9983\n",
            "Epoch 12/20\n",
            "18/18 [==============================] - 17s 916ms/step - loss: 0.0082 - accuracy: 1.0000\n",
            "Epoch 13/20\n",
            "18/18 [==============================] - 17s 922ms/step - loss: 0.0061 - accuracy: 1.0000\n",
            "Epoch 14/20\n",
            "18/18 [==============================] - 18s 973ms/step - loss: 0.0059 - accuracy: 1.0000\n",
            "Epoch 15/20\n",
            "18/18 [==============================] - 17s 928ms/step - loss: 0.0029 - accuracy: 1.0000\n",
            "Epoch 16/20\n",
            "18/18 [==============================] - 17s 938ms/step - loss: 0.0056 - accuracy: 0.9982\n",
            "Epoch 17/20\n",
            "18/18 [==============================] - 17s 890ms/step - loss: 0.0043 - accuracy: 1.0000\n",
            "Epoch 18/20\n",
            "18/18 [==============================] - 17s 933ms/step - loss: 0.0050 - accuracy: 0.9982\n",
            "Epoch 19/20\n",
            "18/18 [==============================] - 16s 861ms/step - loss: 0.0039 - accuracy: 1.0000\n",
            "Epoch 20/20\n",
            "18/18 [==============================] - 17s 952ms/step - loss: 0.0024 - accuracy: 1.0000\n"
          ]
        },
        {
          "output_type": "stream",
          "name": "stderr",
          "text": [
            "/usr/local/lib/python3.10/dist-packages/keras/src/engine/training.py:3103: UserWarning: You are saving your model as an HDF5 file via `model.save()`. This file format is considered legacy. We recommend using instead the native Keras format, e.g. `model.save('my_model.keras')`.\n",
            "  saving_api.save_model(\n"
          ]
        }
      ]
    },
    {
      "cell_type": "markdown",
      "source": [
        "## Plot the loss and metrics"
      ],
      "metadata": {
        "id": "lWhLU3joq8bd"
      }
    },
    {
      "cell_type": "code",
      "execution_count": null,
      "metadata": {
        "colab": {
          "base_uri": "https://localhost:8080/",
          "height": 472
        },
        "id": "Kl9Vi5-Arp10",
        "outputId": "236824d5-cf97-4cf9-c65a-eb75d81430d3"
      },
      "outputs": [
        {
          "output_type": "display_data",
          "data": {
            "text/plain": [
              "<Figure size 640x480 with 1 Axes>"
            ],
            "image/png": "[encoded data removed]"
          },
          "metadata": {}
        }
      ],
      "source": [
        "plt.plot(history.history['loss'])\n",
        "plt.plot(history.history['accuracy'])\n",
        "plt.title('model loss')\n",
        "plt.ylabel('loss')\n",
        "plt.xlabel('epoch')\n",
        "plt.legend(['loss', 'accuracy'], loc='upper left')\n",
        "plt.show()"
      ]
    },
    {
      "cell_type": "markdown",
      "source": [
        "## Prediction"
      ],
      "metadata": {
        "id": "F-KjDJzvrChT"
      }
    },
    {
      "cell_type": "code",
      "execution_count": null,
      "metadata": {
        "id": "GAsYYYoDu_Sc"
      },
      "outputs": [],
      "source": [
        "def predict_shape(img_path):\n",
        "    preprocessed_image = prepare_image(img_path)\n",
        "    predictions_shape = model.predict(preprocessed_image)\n",
        "    print(predictions_shape)\n",
        "    labels=['Cube','Cylinder']\n",
        "    img=cv2.cvtColor(cv2.imread(img_path), cv2.COLOR_BGR2RGB)\n",
        "    plt.imshow(img)\n",
        "    print(\"Shape Detected: \", labels[predictions_shape[0].tolist().index(max(predictions_shape[0]))])"
      ]
    }
  ],
  "metadata": {
    "colab": {
      "provenance": []
    },
    "kernelspec": {
      "display_name": "Python 3",
      "name": "python3"
    },
    "language_info": {
      "name": "python"
    }
  },
  "nbformat": 4,
  "nbformat_minor": 0
}